{
 "cells": [
  {
   "attachments": {},
   "cell_type": "markdown",
   "metadata": {},
   "source": [
    "# ACTIVIDAD 2: Análisis de Comunidades\n",
    "## Redes Sociales, Colaboración en Red\n",
    "**Autores:**  \n",
    "\n",
    "Martín Salinas Antón - martin.salinas@estudiante.uam.es  \n",
    "Belén Vivas García - belen.vivas@estudiante.uam.es"
   ]
  },
  {
   "cell_type": "code",
   "execution_count": null,
   "metadata": {},
   "outputs": [],
   "source": []
  }
 ],
 "metadata": {
  "language_info": {
   "name": "python"
  },
  "orig_nbformat": 4
 },
 "nbformat": 4,
 "nbformat_minor": 2
}
